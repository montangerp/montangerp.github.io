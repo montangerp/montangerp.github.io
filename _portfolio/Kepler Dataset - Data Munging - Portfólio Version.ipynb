{
 "cells": [
  {
   "cell_type": "markdown",
   "metadata": {},
   "source": [
    "This notebook was prepared by <a href=\"https://montangerp.github.io/\" target=\"_blank\"> Patricia Montanger</a>. Source and license info is on <a href=\"https://github.com/montangerp\" target=\"_blank\">GitHub</a>. <br>\n",
    "This research made use of <a href=\"https://docs.lightkurve.org/index.html\" target=\"_blank\">Lightkurve</a>, a Python package for Kepler and TESS data analysis (Lightkurve Collaboration, 2018)."
   ]
  },
  {
   "cell_type": "markdown",
   "metadata": {},
   "source": [
    "# Manipulação de dados "
   ]
  },
  {
   "cell_type": "markdown",
   "metadata": {},
   "source": [
    "## Descrição\n",
    "\n",
    "Neste notebook é realizado o processo de limpeza, reestruturação e reformatação de dados, mais especificamente de séries temporais, para que fiquem em um formato adequado para análise.\n",
    "\n",
    "Os dados utilizados são curvas de luz provenientes de milhares de estrelas e adquiridas através do telescópio **Kepler**, onde cada ponto da curva representa a magnitude da estrela em função do tempo. Queremos obter uma quantidade significativa de curvas, para posteriormente realizar pesquisas para encontrar padrões nas séries temporais e utiliza-las em algoritmos de machine learning, auxiliando assim os astronômos na identificação de exoplanetas.\n",
    "    \n",
    "<img src=\"imagens/esolc.jpg\" style=\"width:500px;height:400px\"/>\n",
    "\n",
    "<div style=\"text-align: center\"><a href=\"https://www.eso.org/public/images/eso1023f/\" target=\"_blank\"> Fonte </a>       </div>\n",
    "\n",
    "A fonte de dados utilizada foi o <a href=\"https://exoplanetarchive.ipac.caltech.edu/\" target=\"_blank\">NASA Exoplanet Archive</a>, um catálogo online que coleta e correlaciona dados e informações astronômicas sobre exoplanetas e suas estrelas hospedeiras, além de fornecer ferramentas para trabalhar com esses dados. Esses dados incluem parâmetros estelares como posições, magnitudes, temperaturas e parâmetros de exoplanetas como massas, parâmetros orbitais e dados de descoberta e caracterização como curvas de velocidade radial, curvas de luz fotométricas, imagens e espectros."
   ]
  },
  {
   "cell_type": "markdown",
   "metadata": {},
   "source": [
    "## Objetivo"
   ]
  },
  {
   "cell_type": "markdown",
   "metadata": {},
   "source": [
    "Nosso objetivo é importar e manipular dados do Kepler para posteriormente aplicar em algoritmos de machine learning.\n",
    "\n",
    "- Primeiro passo: através da página de arquivos do kepler importamos os nomes dos objetos (Kepler ID), suas respectivas classes e quarters.\n",
    "\n",
    "- Segundo passo: importar os dados para o Jupyter e explorar os dados.\n",
    "\n",
    "- Terceiro passo: selecionar apenas as classes de interesse.\n",
    "\n",
    "- Quarto passo: remover valores ausentes.\n",
    "\n",
    "- Quinto passo: selecionar curvas de acordo com o quarter desejado pelo usuário.\n",
    "\n",
    "- Sexto passo: com a biblioteca Lightcurve fazer o download do fluxo das curvas de luz.\n",
    "\n",
    "- Sétimo passo: remover valores ausentes.\n",
    "\n",
    "- Oitavo passo: adicionar as classes para os fluxos importados.\n",
    "\n",
    "- Nono passo: salvar arquivos csv.\n",
    "\n",
    "- Décimo passo: visualizar resultado final."
   ]
  },
  {
   "cell_type": "markdown",
   "metadata": {},
   "source": [
    "### Primeiro passo"
   ]
  },
  {
   "cell_type": "markdown",
   "metadata": {},
   "source": [
    "Na página do NASA Exoplanet Archive selecionamos apenas as colunas de dados de interesse e realizamos o download do arquivo CSV contendo os parâmetros:\n",
    ">**KepID<br>\n",
    "Exoplanet Archive Disposition<br>\n",
    "Quarters**\n",
    "\n",
    "\n"
   ]
  },
  {
   "cell_type": "markdown",
   "metadata": {},
   "source": [
    "<img src=\"imagens/exoarchive.png\"  style=\"width:800px;height:400px\"/>\n",
    "\n",
    "<div style=\"text-align: center\"><a href=\"https://exoplanetarchive.ipac.caltech.edu/\" target=\"_blank\"> Fonte </a>       </div>"
   ]
  },
  {
   "cell_type": "markdown",
   "metadata": {},
   "source": [
    "### Segundo passo"
   ]
  },
  {
   "cell_type": "code",
   "execution_count": 1,
   "metadata": {},
   "outputs": [],
   "source": [
    "import pandas as pd\n",
    "import numpy as np\n",
    "import time\n",
    "import csv\n",
    "import matplotlib.pyplot as plt\n",
    "from lightkurve import search_lightcurvefile"
   ]
  },
  {
   "cell_type": "markdown",
   "metadata": {},
   "source": [
    "Utilizaremos a biblitoeca Lightkurve que nos auxiliará quando desejarmos importar as curvas luz, está biblioteca oferece uma maneira fácil de analisar dados de séries temporais obtidos por telescópios, em particular as das missões Kepler e TESS da NASA."
   ]
  },
  {
   "cell_type": "code",
   "execution_count": 2,
   "metadata": {},
   "outputs": [
    {
     "data": {
      "text/html": [
       "<div>\n",
       "<style scoped>\n",
       "    .dataframe tbody tr th:only-of-type {\n",
       "        vertical-align: middle;\n",
       "    }\n",
       "\n",
       "    .dataframe tbody tr th {\n",
       "        vertical-align: top;\n",
       "    }\n",
       "\n",
       "    .dataframe thead th {\n",
       "        text-align: right;\n",
       "    }\n",
       "</style>\n",
       "<table border=\"1\" class=\"dataframe\">\n",
       "  <thead>\n",
       "    <tr style=\"text-align: right;\">\n",
       "      <th></th>\n",
       "      <th>kepid</th>\n",
       "      <th>koi_disposition</th>\n",
       "      <th>koi_quarters</th>\n",
       "    </tr>\n",
       "  </thead>\n",
       "  <tbody>\n",
       "    <tr>\n",
       "      <th>0</th>\n",
       "      <td>10797460</td>\n",
       "      <td>CONFIRMED</td>\n",
       "      <td>11111111111111111000000000000000</td>\n",
       "    </tr>\n",
       "    <tr>\n",
       "      <th>1</th>\n",
       "      <td>10797460</td>\n",
       "      <td>CONFIRMED</td>\n",
       "      <td>11111111111111111000000000000000</td>\n",
       "    </tr>\n",
       "    <tr>\n",
       "      <th>2</th>\n",
       "      <td>10811496</td>\n",
       "      <td>CANDIDATE</td>\n",
       "      <td>11111101110111011000000000000000</td>\n",
       "    </tr>\n",
       "    <tr>\n",
       "      <th>3</th>\n",
       "      <td>10848459</td>\n",
       "      <td>FALSE POSITIVE</td>\n",
       "      <td>11111110111011101000000000000000</td>\n",
       "    </tr>\n",
       "    <tr>\n",
       "      <th>4</th>\n",
       "      <td>10854555</td>\n",
       "      <td>CONFIRMED</td>\n",
       "      <td>01111111111111111000000000000000</td>\n",
       "    </tr>\n",
       "  </tbody>\n",
       "</table>\n",
       "</div>"
      ],
      "text/plain": [
       "      kepid koi_disposition                      koi_quarters\n",
       "0  10797460       CONFIRMED  11111111111111111000000000000000\n",
       "1  10797460       CONFIRMED  11111111111111111000000000000000\n",
       "2  10811496       CANDIDATE  11111101110111011000000000000000\n",
       "3  10848459  FALSE POSITIVE  11111110111011101000000000000000\n",
       "4  10854555       CONFIRMED  01111111111111111000000000000000"
      ]
     },
     "execution_count": 2,
     "metadata": {},
     "output_type": "execute_result"
    }
   ],
   "source": [
    "lc = pd.read_csv(\"kepler_data_quarter.csv\", sep = \",\") \n",
    "lc.head()"
   ]
  },
  {
   "cell_type": "code",
   "execution_count": 3,
   "metadata": {},
   "outputs": [
    {
     "data": {
      "text/html": [
       "<div>\n",
       "<style scoped>\n",
       "    .dataframe tbody tr th:only-of-type {\n",
       "        vertical-align: middle;\n",
       "    }\n",
       "\n",
       "    .dataframe tbody tr th {\n",
       "        vertical-align: top;\n",
       "    }\n",
       "\n",
       "    .dataframe thead th {\n",
       "        text-align: right;\n",
       "    }\n",
       "</style>\n",
       "<table border=\"1\" class=\"dataframe\">\n",
       "  <thead>\n",
       "    <tr style=\"text-align: right;\">\n",
       "      <th></th>\n",
       "      <th>kepid</th>\n",
       "      <th>koi_disposition</th>\n",
       "      <th>koi_quarters</th>\n",
       "    </tr>\n",
       "  </thead>\n",
       "  <tbody>\n",
       "    <tr>\n",
       "      <th>9559</th>\n",
       "      <td>10090151</td>\n",
       "      <td>FALSE POSITIVE</td>\n",
       "      <td>11111101110111011000000000000000</td>\n",
       "    </tr>\n",
       "    <tr>\n",
       "      <th>9560</th>\n",
       "      <td>10128825</td>\n",
       "      <td>CANDIDATE</td>\n",
       "      <td>11111111111111111000000000000000</td>\n",
       "    </tr>\n",
       "    <tr>\n",
       "      <th>9561</th>\n",
       "      <td>10147276</td>\n",
       "      <td>FALSE POSITIVE</td>\n",
       "      <td>11111111111111111000000000000000</td>\n",
       "    </tr>\n",
       "    <tr>\n",
       "      <th>9562</th>\n",
       "      <td>10155286</td>\n",
       "      <td>CANDIDATE</td>\n",
       "      <td>11111101110111011000000000000000</td>\n",
       "    </tr>\n",
       "    <tr>\n",
       "      <th>9563</th>\n",
       "      <td>10156110</td>\n",
       "      <td>FALSE POSITIVE</td>\n",
       "      <td>11111101110111011000000000000000</td>\n",
       "    </tr>\n",
       "  </tbody>\n",
       "</table>\n",
       "</div>"
      ],
      "text/plain": [
       "         kepid koi_disposition                      koi_quarters\n",
       "9559  10090151  FALSE POSITIVE  11111101110111011000000000000000\n",
       "9560  10128825       CANDIDATE  11111111111111111000000000000000\n",
       "9561  10147276  FALSE POSITIVE  11111111111111111000000000000000\n",
       "9562  10155286       CANDIDATE  11111101110111011000000000000000\n",
       "9563  10156110  FALSE POSITIVE  11111101110111011000000000000000"
      ]
     },
     "execution_count": 3,
     "metadata": {},
     "output_type": "execute_result"
    }
   ],
   "source": [
    "lc.tail()"
   ]
  },
  {
   "cell_type": "code",
   "execution_count": 4,
   "metadata": {},
   "outputs": [
    {
     "data": {
      "image/png": "[encoded data removed]",
      "text/plain": [
       "<Figure size 432x288 with 1 Axes>"
      ]
     },
     "metadata": {
      "needs_background": "light"
     },
     "output_type": "display_data"
    }
   ],
   "source": [
    "# comparação da quantidade de objetos por classe\n",
    "lc.groupby(['koi_disposition','koi_disposition']).size().unstack().plot(kind='bar',stacked=True)\n",
    "plt.show()"
   ]
  },
  {
   "cell_type": "code",
   "execution_count": 5,
   "metadata": {},
   "outputs": [
    {
     "data": {
      "text/plain": [
       "kepid               int64\n",
       "koi_disposition    object\n",
       "koi_quarters       object\n",
       "dtype: object"
      ]
     },
     "execution_count": 5,
     "metadata": {},
     "output_type": "execute_result"
    }
   ],
   "source": [
    "lc.dtypes"
   ]
  },
  {
   "cell_type": "code",
   "execution_count": 6,
   "metadata": {},
   "outputs": [
    {
     "name": "stdout",
     "output_type": "stream",
     "text": [
      "<class 'pandas.core.frame.DataFrame'>\n",
      "RangeIndex: 9564 entries, 0 to 9563\n",
      "Data columns (total 3 columns):\n",
      " #   Column           Non-Null Count  Dtype \n",
      "---  ------           --------------  ----- \n",
      " 0   kepid            9564 non-null   int64 \n",
      " 1   koi_disposition  9564 non-null   object\n",
      " 2   koi_quarters     8422 non-null   object\n",
      "dtypes: int64(1), object(2)\n",
      "memory usage: 224.3+ KB\n"
     ]
    }
   ],
   "source": [
    "lc.info()"
   ]
  },
  {
   "cell_type": "markdown",
   "metadata": {},
   "source": [
    "Observe que temos 3 classes: \n",
    ">**Falsos positivos<br>Candidatos<br>Confirmados** <br>"
   ]
  },
  {
   "cell_type": "markdown",
   "metadata": {},
   "source": [
    "Porém queremos apenas os falsos positivos e confirmados de forma que vamos iniciar retirando todos os itens classificados como candidatos.\n",
    "Além disso visualizamos acima que em koi_quarters existem valores ausentes, os quais precisarão ser removidos ou substituídos."
   ]
  },
  {
   "cell_type": "markdown",
   "metadata": {},
   "source": [
    "### Terceiro passo"
   ]
  },
  {
   "cell_type": "code",
   "execution_count": 7,
   "metadata": {},
   "outputs": [
    {
     "name": "stdout",
     "output_type": "stream",
     "text": [
      "total inicial de curvas: 9564\n"
     ]
    }
   ],
   "source": [
    "lc_array = np.array(lc)\n",
    "print('total inicial de curvas: %d'%(len(lc_array)))"
   ]
  },
  {
   "cell_type": "code",
   "execution_count": 8,
   "metadata": {},
   "outputs": [
    {
     "name": "stdout",
     "output_type": "stream",
     "text": [
      "falsos positivos: 4841, confirmados: 2303\n",
      "\n",
      "total atualizado: 7144\n"
     ]
    }
   ],
   "source": [
    "# retira os labels 'candidate' da base de dados: nova base lc_array_wc \n",
    "lc_array_wc = []\n",
    "for i in range(0, len(lc_array)):\n",
    "    if lc_array[i][1] == 'CANDIDATE':\n",
    "        np.delete(lc_array, i, 0)\n",
    "    else:\n",
    "        lc_array_wc.append(lc_array[i])\n",
    "        \n",
    "# quantidade de itens em cada classe \n",
    "confirmed = []\n",
    "false_positive = []\n",
    "for i in range(0, len(lc_array_wc)):\n",
    "    if lc_array_wc[i][1] == 'CONFIRMED':\n",
    "        confirmed.append(lc_array_wc[i])\n",
    "    else:\n",
    "        false_positive.append(lc_array_wc[i])\n",
    "\n",
    "print('falsos positivos: %d, confirmados: %d\\n\\ntotal atualizado: %d'%(len(false_positive),len(confirmed), len(false_positive)+len(confirmed)))"
   ]
  },
  {
   "cell_type": "code",
   "execution_count": 9,
   "metadata": {},
   "outputs": [
    {
     "data": {
      "image/png": "[encoded data removed]",
      "text/plain": [
       "<Figure size 432x288 with 1 Axes>"
      ]
     },
     "metadata": {
      "needs_background": "light"
     },
     "output_type": "display_data"
    }
   ],
   "source": [
    "# comparação da quantidade de objetos por classe\n",
    "df = pd.DataFrame(data=lc_array_wc, columns=[\"kepid\", \"koi_disposition\", \"koi_quarters\"])\n",
    "df.groupby(['koi_disposition','koi_disposition']).size().unstack().plot(kind='bar',stacked=True)\n",
    "plt.show()"
   ]
  },
  {
   "cell_type": "markdown",
   "metadata": {},
   "source": [
    "### Quarto passo"
   ]
  },
  {
   "cell_type": "markdown",
   "metadata": {},
   "source": [
    "Temos agora nossos dados apenas com os labels de interesse e vamos excluír os valores ausentes existentes na coluna quarters."
   ]
  },
  {
   "cell_type": "code",
   "execution_count": 10,
   "metadata": {},
   "outputs": [
    {
     "name": "stdout",
     "output_type": "stream",
     "text": [
      "total atualizado: 6465\n"
     ]
    }
   ],
   "source": [
    "# exclui as curvas com valores ausentes da coluna 'quarters'\n",
    "lc_array_wc_wn = []\n",
    "for i in range(0, len(lc_array_wc)):\n",
    "    h = lc_array_wc[i][2]\n",
    "    if pd.isnull(h) == True:\n",
    "        np.delete(lc_array_wc, i, 0)\n",
    "    else:\n",
    "        lc_array_wc_wn.append(lc_array_wc[i])\n",
    "        \n",
    "print('total atualizado: %d'%(len(lc_array_wc_wn)))"
   ]
  },
  {
   "cell_type": "markdown",
   "metadata": {},
   "source": [
    "### Quinto passo"
   ]
  },
  {
   "cell_type": "markdown",
   "metadata": {},
   "source": [
    "Neste passo temos que entender que para usar a biblioteca Lightkurve precisamos selecionar o quarter (ou trimestre) que desejamos que nossa base de curvas de luz possua. Os trimestres variam entre 1 e 17 e são representados de forma binária:\n",
    "\n",
    "  kepid | koi_disposition|          koi_quarters\n",
    "--------|----------------| --------------------------------\n",
    "10797460|   CONFIRMED    | 11111111111111111000000000000000\n",
    "10811496|   CONFIRMED    | 11111101110111011000000000000000\n",
    "10848459| FALSE POSITIVE | 11111110111011101000000000000000\n",
    "\n",
    "O **número 1** nos diz que existe uma curva de luz dísponivel para aquele quarter, já o **número 0** nos diz que não há uma curva para aquele quarter. Sabendo disso, temos que selecionar o quarter desejado antes de importar as curvas."
   ]
  },
  {
   "cell_type": "code",
   "execution_count": 11,
   "metadata": {},
   "outputs": [],
   "source": [
    "quarter = 1           # alterar aqui de acordo com o valor de quarter desejado entre 1 e 17  "
   ]
  },
  {
   "cell_type": "code",
   "execution_count": 12,
   "metadata": {},
   "outputs": [
    {
     "name": "stdout",
     "output_type": "stream",
     "text": [
      "Quarter = 1 \n",
      "\n",
      "Total atualizado: 5297\n"
     ]
    }
   ],
   "source": [
    "# seleciona apenas as curvas com o quarter escolhido\n",
    "lc_array_wc_wn_Q = []\n",
    "for i in range(0, len(lc_array_wc_wn)):\n",
    "    if len(lc_array_wc_wn[i][2]) != 32 and len(lc_array_wc_wn[i][2]) != (32 - quarter + 1):\n",
    "        np.delete(lc_array_wc_wn, i, 0)\n",
    "    else:\n",
    "        lc_array_wc_wn_Q.append(lc_array_wc_wn[i]) \n",
    "lc_array_wc_wn_Q_sq = []                               \n",
    "for i in range(0, len(lc_array_wc_wn_Q)):\n",
    "    if len(lc_array_wc_wn_Q[i][2]) == 32 and lc_array_wc_wn_Q[i][2][quarter-1] == '0':\n",
    "        np.delete(lc_array_wc_wn_Q, i, 0)\n",
    "    elif len(lc_array_wc_wn_Q[i][2]) == (32 - quarter + 1) and lc_array_wc_wn_Q[i][2][0] == '0':\n",
    "        np.delete(lc_array_wc_wn_Q, i, 0)\n",
    "    else:\n",
    "        lc_array_wc_wn_Q_sq.append(lc_array_wc_wn_Q[i]) \n",
    "\n",
    "print('Quarter = %d \\n\\nTotal atualizado: %d'%((quarter),len(lc_array_wc_wn_Q_sq)))"
   ]
  },
  {
   "cell_type": "markdown",
   "metadata": {},
   "source": [
    "Na nova lista estão apenas as curvas que possuem o **quarter = 1**, portanto temos agora um número atualizado no total de curvas."
   ]
  },
  {
   "cell_type": "code",
   "execution_count": 13,
   "metadata": {},
   "outputs": [
    {
     "name": "stdout",
     "output_type": "stream",
     "text": [
      "falsos positivos: 3007 \t\t 56.767982 porcento \n",
      "confirmados: 2290 \t\t 43.232018 porcento \n",
      "\n",
      "total atualizado: 5297\n"
     ]
    }
   ],
   "source": [
    "# quantidade de itens e porcentagem em cada classe para o quarter selecionado\n",
    "confirmed_ = []\n",
    "false_positive_ = []\n",
    "for i in range(0, len(lc_array_wc_wn_Q_sq)):\n",
    "    if lc_array_wc_wn_Q[i][1] == 'CONFIRMED':\n",
    "        confirmed_.append(lc_array_wc_wn_Q_sq[i])\n",
    "    else:\n",
    "        false_positive_.append(lc_array_wc_wn_Q_sq[i])\n",
    "\n",
    "total_lc = len(lc_array_wc_wn_Q_sq)\n",
    "porcent_fp = (100*len(false_positive_))/total_lc\n",
    "porcent_c = (100*len(confirmed_))/total_lc \n",
    "\n",
    "print('falsos positivos: %d \\t\\t %f porcento \\nconfirmados: %d \\t\\t %f porcento \\n\\ntotal atualizado: %d'%(len(false_positive_),porcent_fp,len(confirmed_),porcent_c,len(false_positive_)+len(confirmed_)))"
   ]
  },
  {
   "cell_type": "code",
   "execution_count": 14,
   "metadata": {},
   "outputs": [
    {
     "data": {
      "image/png": "[encoded data removed]",
      "text/plain": [
       "<Figure size 432x288 with 1 Axes>"
      ]
     },
     "metadata": {
      "needs_background": "light"
     },
     "output_type": "display_data"
    }
   ],
   "source": [
    "# comparação da quantidade de objetos por classe\n",
    "dfq = pd.DataFrame(data=lc_array_wc_wn_Q, columns=[\"kepid\", \"koi_disposition\", \"koi_quarters\"])\n",
    "dfq.groupby(['koi_disposition','koi_disposition']).size().unstack().plot(kind='bar',stacked=True)\n",
    "plt.show()"
   ]
  },
  {
   "cell_type": "markdown",
   "metadata": {},
   "source": [
    "### Sexto passo"
   ]
  },
  {
   "cell_type": "markdown",
   "metadata": {},
   "source": [
    "Agora vamos importar as curvas através do Lightcurve, neste exemplo importamos apenas algumas das curvas disponíveis, é possível importar todas porém é um processo que levaria horas e exigiria muito de um computador comum, **é recomendável utilizar um GPU/Cluster para executar esta etapa** caso queira trabalhar com todas as curvas."
   ]
  },
  {
   "cell_type": "code",
   "execution_count": 15,
   "metadata": {},
   "outputs": [
    {
     "name": "stdout",
     "output_type": "stream",
     "text": [
      "gzip was not found on your system! You should solve this issue for astroquery.eso to be at its best!\n",
      "On POSIX system: make sure gzip is installed and in your path!On Windows: same for 7-zip (http://www.7-zip.org)!\n",
      "\n",
      "Tempo para importar curvas de luz: 17.964212 seconds\n",
      "\n"
     ]
    }
   ],
   "source": [
    "# importando as curvas de luz com o KeplerGO\n",
    "lc_flux = []\n",
    "start_time = time.time()\n",
    "for i in range(0,10):                                           # durante testes altere a quantidade de curvas aqui\n",
    "#for i in range(0, len(lc_array_wc_wn_Q_sq)):                   # descomente esta linha para importar todas as curvas\n",
    "    ep = str(lc_array_wc_wn_Q_sq[i][0])                                                     # seleciona os KeplerID\n",
    "    lcf = search_lightcurvefile(ep, quarter = quarter).download()         \n",
    "    lcf = lcf.PDCSAP_FLUX                                             \n",
    "    lc_flux.append(lcf.flux)\n",
    "t = time.time() - start_time   \n",
    "\n",
    "print('\\nTempo para importar curvas de luz: %f seconds\\n' %t)"
   ]
  },
  {
   "cell_type": "code",
   "execution_count": 16,
   "metadata": {},
   "outputs": [
    {
     "data": {
      "image/png": "[encoded data removed]",
      "text/plain": [
       "<Figure size 720x720 with 4 Axes>"
      ]
     },
     "metadata": {
      "needs_background": "light"
     },
     "output_type": "display_data"
    }
   ],
   "source": [
    "# visualização das curvas importadas\n",
    "fig = plt.figure(figsize=(10, 10)) \n",
    "fig_dims = (3, 2)\n",
    "dflux = pd.DataFrame(data=lc_flux)\n",
    "plt.subplot2grid(fig_dims, (0, 0)),plt.plot(dflux.iloc[0],'.')\n",
    "plt.subplot2grid(fig_dims, (0, 1)),plt.plot(dflux.iloc[2],'.')\n",
    "plt.subplot2grid(fig_dims, (1, 0)),plt.plot(dflux.iloc[4],'.')\n",
    "plt.subplot2grid(fig_dims, (1, 1)),plt.plot(dflux.iloc[9],'.')\n",
    "plt.show()"
   ]
  },
  {
   "cell_type": "markdown",
   "metadata": {},
   "source": [
    "Já com as curvas na lista *lc_flux* vamos verificar se todas as curvas importadas possuem o mesmo tamanho e apresentar uma mensagem caso alguma tenha um tamanho diferente, raramente existem curvas de tamanhos diferentes para o mesmo quarter, porém sempre realizaremos esta verificação. "
   ]
  },
  {
   "cell_type": "code",
   "execution_count": 17,
   "metadata": {},
   "outputs": [
    {
     "name": "stdout",
     "output_type": "stream",
     "text": [
      "Caso nenhuma das curvas apresente tamanho diferente, todas as curvas possuem o total de 1626 pontos cada.\n",
      "\n"
     ]
    }
   ],
   "source": [
    "# verificar se todas as curvas importadas possuem o mesmo tamanho\n",
    "for i in range(0,len(lc_flux)):\n",
    "    if len(lc_flux[i]) != len(lc_flux[i-1]):\n",
    "        print(\"A curva %d possui tamanho diferente das demais curvas. Tamanho: %d \"%(i,len(lc_flux[i])))\n",
    "print(\"Caso nenhuma das curvas apresente tamanho diferente, todas as curvas possuem o total de %d pontos cada.\\n\"%len(lc_flux[3]))"
   ]
  },
  {
   "cell_type": "markdown",
   "metadata": {},
   "source": [
    "### Sétimo passo"
   ]
  },
  {
   "cell_type": "markdown",
   "metadata": {},
   "source": [
    "Assim como na tabela inicial existiam valores ausentes, nas curvas recém importadas também existem pontos ausentes então vamos identificar estes pontos a seguir e guardar seus indices para verificar a procentagem de pontos que precisaram ser substituídos e assim garantir que não sejam suficientes grandes para alterar as análises feitas no futuro utilizando esta base de dados. Esses dados serão salvos em uma tabela CSV caso seja necessário identificá-los em trabalhos futuros."
   ]
  },
  {
   "cell_type": "code",
   "execution_count": 18,
   "metadata": {},
   "outputs": [
    {
     "name": "stdout",
     "output_type": "stream",
     "text": [
      "Total de pontos com valores ausentes: 20\n",
      "\n"
     ]
    }
   ],
   "source": [
    "# percorre todos os pontos de todas as curvas verificando onde existem NaN, guarda os indices e quantidades\n",
    "count = 0\n",
    "notanumber = []\n",
    "notanumber.append(('Ponto da curva','Curva'))\n",
    "for j in range(0, len(lc_flux)):\n",
    "    for i in range(0,len(lc_flux[j])):\n",
    "        h = lc_flux[j][i]\n",
    "        if pd.isnull(h) == True:\n",
    "            notanumber.append((i,j))\n",
    "            count+=1\n",
    " \n",
    "# salva tabela csv com curvas e pontos contendo nan \n",
    "csvfile_nan = \"nan_Q1.csv\"\n",
    "with open(csvfile_nan, \"w\") as output:\n",
    "    writer = csv.writer(output, lineterminator='\\n')\n",
    "    writer.writerows(notanumber)\n",
    "            \n",
    "print(\"Total de pontos com valores ausentes: %d\\n\" %count)"
   ]
  },
  {
   "cell_type": "markdown",
   "metadata": {},
   "source": [
    "Para lidar com os valores ausentes escolhemos uma função que os substitui automaticamente por zero."
   ]
  },
  {
   "cell_type": "code",
   "execution_count": 19,
   "metadata": {},
   "outputs": [
    {
     "name": "stdout",
     "output_type": "stream",
     "text": [
      "Porcentagem de valores ausentes substituídos por zero: 0.123001 porcento\n",
      "\n"
     ]
    }
   ],
   "source": [
    "# porcentagem de dados que serão subsituidos por zero \n",
    "total = len(lc_flux)*len(lc_flux[0])\n",
    "porcent = (100*count)/total\n",
    "\n",
    "print(\"Porcentagem de valores ausentes substituídos por zero: %f porcento\\n\" %porcent)\n",
    "\n",
    "# funçao que substitui NaN por zero e Inf por números finitos\n",
    "lc_flux_ = np.nan_to_num(lc_flux)"
   ]
  },
  {
   "cell_type": "markdown",
   "metadata": {},
   "source": [
    "Observamos que a porcentagem de valores ausentes não é grande o suficiente para interferir nas análises, então vamos para a próxima etapa."
   ]
  },
  {
   "cell_type": "markdown",
   "metadata": {},
   "source": [
    "### Oitavo passo"
   ]
  },
  {
   "cell_type": "markdown",
   "metadata": {},
   "source": [
    "Vamos adicionar as classes correspondentes as curvas que importamos."
   ]
  },
  {
   "cell_type": "code",
   "execution_count": 20,
   "metadata": {},
   "outputs": [],
   "source": [
    "# aqui adicionamos os labels ao lc_flux (curvas de luz) \n",
    "# labels estão no lc_array_wc_wn_Q1_sq\n",
    "selected_list = []\n",
    "for i in range(0,len(lc_flux_)):\n",
    "    selected_list.append(lc_flux_[i].tolist())\n",
    "    selected_list[i].append(lc_array_wc_wn_Q_sq[i][1])\n",
    "\n",
    "selected_list = list(map(list, zip(*selected_list)))\n",
    "\n",
    "label = \"Label\"\n",
    "selected_list [len(lc_flux_[3])].insert(0,label)     \n",
    "\n",
    "flux = \"Flux\"\n",
    "for i in range(0,len(lc_flux_[3])):\n",
    "    selected_list[i].insert(0,flux)\n",
    "    \n",
    "selected_list = list(map(list, zip(*selected_list)))"
   ]
  },
  {
   "cell_type": "markdown",
   "metadata": {},
   "source": [
    "Se houver valores ausentes restantes na base de dados, nossa análise será prejudicada, então por redundância vamos realizar a verificação novamente."
   ]
  },
  {
   "cell_type": "code",
   "execution_count": 21,
   "metadata": {},
   "outputs": [
    {
     "name": "stdout",
     "output_type": "stream",
     "text": [
      "Total de pontos contendo valores ausentes (segunda verificação): 0  ----> deve sempre ser zero\n"
     ]
    }
   ],
   "source": [
    "# redundância para verificar se existem NaN\n",
    "# Obs.: deve sempre ser zero\n",
    "count_ = 0\n",
    "notanumber_ = []\n",
    "notanumber_.append(('Ponto da curva','Curva'))\n",
    "for j in range(0, len(selected_list)):\n",
    "    for i in range(0,len(selected_list[j])):\n",
    "        h = selected_list[j][i]\n",
    "        if pd.isnull(h) == True:\n",
    "            notanumber_.append((i,j))\n",
    "            count_+=1\n",
    "\n",
    "print(\"Total de pontos contendo valores ausentes (segunda verificação): %d  ----> deve sempre ser zero\" %count_)"
   ]
  },
  {
   "cell_type": "markdown",
   "metadata": {},
   "source": [
    "### Nono passo"
   ]
  },
  {
   "cell_type": "markdown",
   "metadata": {},
   "source": [
    "Finalmente temos a base de dados pronta para análise e podemos salvá-la em um arquivo CSV."
   ]
  },
  {
   "cell_type": "code",
   "execution_count": 22,
   "metadata": {},
   "outputs": [],
   "source": [
    "# salvando tabela final em formato csv. já com quarter, labels e fluxo definidos\n",
    "csvfile = \"dados_Q1.csv\"\n",
    "with open(csvfile, \"w\") as output:\n",
    "    writer = csv.writer(output, lineterminator='\\n')\n",
    "    writer.writerows(selected_list)"
   ]
  },
  {
   "cell_type": "markdown",
   "metadata": {},
   "source": [
    "### Décimo passo"
   ]
  },
  {
   "cell_type": "code",
   "execution_count": 23,
   "metadata": {},
   "outputs": [
    {
     "data": {
      "text/html": [
       "<div>\n",
       "<style scoped>\n",
       "    .dataframe tbody tr th:only-of-type {\n",
       "        vertical-align: middle;\n",
       "    }\n",
       "\n",
       "    .dataframe tbody tr th {\n",
       "        vertical-align: top;\n",
       "    }\n",
       "\n",
       "    .dataframe thead th {\n",
       "        text-align: right;\n",
       "    }\n",
       "</style>\n",
       "<table border=\"1\" class=\"dataframe\">\n",
       "  <thead>\n",
       "    <tr style=\"text-align: right;\">\n",
       "      <th></th>\n",
       "      <th>Flux</th>\n",
       "      <th>Flux.1</th>\n",
       "      <th>Flux.2</th>\n",
       "      <th>Flux.3</th>\n",
       "      <th>Flux.4</th>\n",
       "      <th>Flux.5</th>\n",
       "      <th>Flux.6</th>\n",
       "      <th>Flux.7</th>\n",
       "      <th>Flux.8</th>\n",
       "      <th>Flux.9</th>\n",
       "      <th>...</th>\n",
       "      <th>Flux.1617</th>\n",
       "      <th>Flux.1618</th>\n",
       "      <th>Flux.1619</th>\n",
       "      <th>Flux.1620</th>\n",
       "      <th>Flux.1621</th>\n",
       "      <th>Flux.1622</th>\n",
       "      <th>Flux.1623</th>\n",
       "      <th>Flux.1624</th>\n",
       "      <th>Flux.1625</th>\n",
       "      <th>Label</th>\n",
       "    </tr>\n",
       "  </thead>\n",
       "  <tbody>\n",
       "    <tr>\n",
       "      <th>0</th>\n",
       "      <td>11288.066406</td>\n",
       "      <td>11292.760742</td>\n",
       "      <td>11281.872070</td>\n",
       "      <td>11298.019531</td>\n",
       "      <td>11284.711914</td>\n",
       "      <td>11292.368164</td>\n",
       "      <td>11296.479492</td>\n",
       "      <td>11288.382812</td>\n",
       "      <td>11288.015625</td>\n",
       "      <td>11302.500977</td>\n",
       "      <td>...</td>\n",
       "      <td>11262.921875</td>\n",
       "      <td>11250.892578</td>\n",
       "      <td>11251.499023</td>\n",
       "      <td>11249.472656</td>\n",
       "      <td>11255.666016</td>\n",
       "      <td>11259.477539</td>\n",
       "      <td>11254.582031</td>\n",
       "      <td>11268.262695</td>\n",
       "      <td>11263.854492</td>\n",
       "      <td>CONFIRMED</td>\n",
       "    </tr>\n",
       "    <tr>\n",
       "      <th>1</th>\n",
       "      <td>11288.066406</td>\n",
       "      <td>11292.760742</td>\n",
       "      <td>11281.872070</td>\n",
       "      <td>11298.019531</td>\n",
       "      <td>11284.711914</td>\n",
       "      <td>11292.368164</td>\n",
       "      <td>11296.479492</td>\n",
       "      <td>11288.382812</td>\n",
       "      <td>11288.015625</td>\n",
       "      <td>11302.500977</td>\n",
       "      <td>...</td>\n",
       "      <td>11262.921875</td>\n",
       "      <td>11250.892578</td>\n",
       "      <td>11251.499023</td>\n",
       "      <td>11249.472656</td>\n",
       "      <td>11255.666016</td>\n",
       "      <td>11259.477539</td>\n",
       "      <td>11254.582031</td>\n",
       "      <td>11268.262695</td>\n",
       "      <td>11263.854492</td>\n",
       "      <td>CONFIRMED</td>\n",
       "    </tr>\n",
       "    <tr>\n",
       "      <th>2</th>\n",
       "      <td>8199.683594</td>\n",
       "      <td>8203.690430</td>\n",
       "      <td>8201.837891</td>\n",
       "      <td>8202.610352</td>\n",
       "      <td>8200.041016</td>\n",
       "      <td>8194.414062</td>\n",
       "      <td>8203.027344</td>\n",
       "      <td>8203.117188</td>\n",
       "      <td>8204.064453</td>\n",
       "      <td>8191.709473</td>\n",
       "      <td>...</td>\n",
       "      <td>8198.636719</td>\n",
       "      <td>8190.932129</td>\n",
       "      <td>8196.329102</td>\n",
       "      <td>8201.858398</td>\n",
       "      <td>8191.613281</td>\n",
       "      <td>8196.993164</td>\n",
       "      <td>8197.906250</td>\n",
       "      <td>8199.167969</td>\n",
       "      <td>8198.675781</td>\n",
       "      <td>FALSE POSITIVE</td>\n",
       "    </tr>\n",
       "    <tr>\n",
       "      <th>3</th>\n",
       "      <td>124407.843750</td>\n",
       "      <td>124410.914062</td>\n",
       "      <td>124413.546875</td>\n",
       "      <td>124393.281250</td>\n",
       "      <td>124406.789062</td>\n",
       "      <td>124403.601562</td>\n",
       "      <td>124421.164062</td>\n",
       "      <td>124411.929688</td>\n",
       "      <td>124396.515625</td>\n",
       "      <td>124418.281250</td>\n",
       "      <td>...</td>\n",
       "      <td>124415.921875</td>\n",
       "      <td>124399.828125</td>\n",
       "      <td>124420.140625</td>\n",
       "      <td>124417.203125</td>\n",
       "      <td>124409.242188</td>\n",
       "      <td>124407.023438</td>\n",
       "      <td>124386.234375</td>\n",
       "      <td>124405.234375</td>\n",
       "      <td>124400.570312</td>\n",
       "      <td>FALSE POSITIVE</td>\n",
       "    </tr>\n",
       "    <tr>\n",
       "      <th>4</th>\n",
       "      <td>6559.518555</td>\n",
       "      <td>6552.599609</td>\n",
       "      <td>6548.751953</td>\n",
       "      <td>6554.393066</td>\n",
       "      <td>6552.321289</td>\n",
       "      <td>6561.672852</td>\n",
       "      <td>6553.577637</td>\n",
       "      <td>6556.897461</td>\n",
       "      <td>6554.946289</td>\n",
       "      <td>6552.674316</td>\n",
       "      <td>...</td>\n",
       "      <td>6535.249023</td>\n",
       "      <td>6532.930176</td>\n",
       "      <td>6536.879883</td>\n",
       "      <td>6532.363281</td>\n",
       "      <td>6539.292480</td>\n",
       "      <td>6529.866211</td>\n",
       "      <td>6531.430176</td>\n",
       "      <td>6520.676270</td>\n",
       "      <td>6516.936035</td>\n",
       "      <td>CONFIRMED</td>\n",
       "    </tr>\n",
       "  </tbody>\n",
       "</table>\n",
       "<p>5 rows × 1627 columns</p>\n",
       "</div>"
      ],
      "text/plain": [
       "            Flux         Flux.1         Flux.2         Flux.3         Flux.4  \\\n",
       "0   11288.066406   11292.760742   11281.872070   11298.019531   11284.711914   \n",
       "1   11288.066406   11292.760742   11281.872070   11298.019531   11284.711914   \n",
       "2    8199.683594    8203.690430    8201.837891    8202.610352    8200.041016   \n",
       "3  124407.843750  124410.914062  124413.546875  124393.281250  124406.789062   \n",
       "4    6559.518555    6552.599609    6548.751953    6554.393066    6552.321289   \n",
       "\n",
       "          Flux.5         Flux.6         Flux.7         Flux.8         Flux.9  \\\n",
       "0   11292.368164   11296.479492   11288.382812   11288.015625   11302.500977   \n",
       "1   11292.368164   11296.479492   11288.382812   11288.015625   11302.500977   \n",
       "2    8194.414062    8203.027344    8203.117188    8204.064453    8191.709473   \n",
       "3  124403.601562  124421.164062  124411.929688  124396.515625  124418.281250   \n",
       "4    6561.672852    6553.577637    6556.897461    6554.946289    6552.674316   \n",
       "\n",
       "   ...      Flux.1617      Flux.1618      Flux.1619      Flux.1620  \\\n",
       "0  ...   11262.921875   11250.892578   11251.499023   11249.472656   \n",
       "1  ...   11262.921875   11250.892578   11251.499023   11249.472656   \n",
       "2  ...    8198.636719    8190.932129    8196.329102    8201.858398   \n",
       "3  ...  124415.921875  124399.828125  124420.140625  124417.203125   \n",
       "4  ...    6535.249023    6532.930176    6536.879883    6532.363281   \n",
       "\n",
       "       Flux.1621      Flux.1622      Flux.1623      Flux.1624      Flux.1625  \\\n",
       "0   11255.666016   11259.477539   11254.582031   11268.262695   11263.854492   \n",
       "1   11255.666016   11259.477539   11254.582031   11268.262695   11263.854492   \n",
       "2    8191.613281    8196.993164    8197.906250    8199.167969    8198.675781   \n",
       "3  124409.242188  124407.023438  124386.234375  124405.234375  124400.570312   \n",
       "4    6539.292480    6529.866211    6531.430176    6520.676270    6516.936035   \n",
       "\n",
       "            Label  \n",
       "0       CONFIRMED  \n",
       "1       CONFIRMED  \n",
       "2  FALSE POSITIVE  \n",
       "3  FALSE POSITIVE  \n",
       "4       CONFIRMED  \n",
       "\n",
       "[5 rows x 1627 columns]"
      ]
     },
     "execution_count": 23,
     "metadata": {},
     "output_type": "execute_result"
    }
   ],
   "source": [
    "pd.read_csv(\"dados_Q1.csv\", sep = \",\").head()"
   ]
  },
  {
   "cell_type": "code",
   "execution_count": 24,
   "metadata": {},
   "outputs": [
    {
     "data": {
      "text/html": [
       "<div>\n",
       "<style scoped>\n",
       "    .dataframe tbody tr th:only-of-type {\n",
       "        vertical-align: middle;\n",
       "    }\n",
       "\n",
       "    .dataframe tbody tr th {\n",
       "        vertical-align: top;\n",
       "    }\n",
       "\n",
       "    .dataframe thead th {\n",
       "        text-align: right;\n",
       "    }\n",
       "</style>\n",
       "<table border=\"1\" class=\"dataframe\">\n",
       "  <thead>\n",
       "    <tr style=\"text-align: right;\">\n",
       "      <th></th>\n",
       "      <th>Ponto da curva</th>\n",
       "      <th>Curva</th>\n",
       "    </tr>\n",
       "  </thead>\n",
       "  <tbody>\n",
       "    <tr>\n",
       "      <th>0</th>\n",
       "      <td>979</td>\n",
       "      <td>0</td>\n",
       "    </tr>\n",
       "    <tr>\n",
       "      <th>1</th>\n",
       "      <td>1167</td>\n",
       "      <td>0</td>\n",
       "    </tr>\n",
       "    <tr>\n",
       "      <th>2</th>\n",
       "      <td>979</td>\n",
       "      <td>1</td>\n",
       "    </tr>\n",
       "    <tr>\n",
       "      <th>3</th>\n",
       "      <td>1167</td>\n",
       "      <td>1</td>\n",
       "    </tr>\n",
       "    <tr>\n",
       "      <th>4</th>\n",
       "      <td>979</td>\n",
       "      <td>2</td>\n",
       "    </tr>\n",
       "  </tbody>\n",
       "</table>\n",
       "</div>"
      ],
      "text/plain": [
       "   Ponto da curva  Curva\n",
       "0             979      0\n",
       "1            1167      0\n",
       "2             979      1\n",
       "3            1167      1\n",
       "4             979      2"
      ]
     },
     "execution_count": 24,
     "metadata": {},
     "output_type": "execute_result"
    }
   ],
   "source": [
    "pd.read_csv(\"nan_Q1.csv\", sep = \",\").head()"
   ]
  }
 ],
 "metadata": {
  "kernelspec": {
   "display_name": "Python 3",
   "language": "python",
   "name": "python3"
  },
  "language_info": {
   "codemirror_mode": {
    "name": "ipython",
    "version": 3
   },
   "file_extension": ".py",
   "mimetype": "text/x-python",
   "name": "python",
   "nbconvert_exporter": "python",
   "pygments_lexer": "ipython3",
   "version": "3.7.1"
  }
 },
 "nbformat": 4,
 "nbformat_minor": 2
}
